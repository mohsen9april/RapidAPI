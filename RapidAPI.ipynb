{
  "nbformat": 4,
  "nbformat_minor": 0,
  "metadata": {
    "colab": {
      "provenance": [],
      "gpuType": "T4",
      "authorship_tag": "ABX9TyPKQriY0lky9tUQzox4TIvK",
      "include_colab_link": true
    },
    "kernelspec": {
      "name": "python3",
      "display_name": "Python 3"
    },
    "language_info": {
      "name": "python"
    },
    "accelerator": "GPU"
  },
  "cells": [
    {
      "cell_type": "markdown",
      "metadata": {
        "id": "view-in-github",
        "colab_type": "text"
      },
      "source": [
        "<a href=\"https://colab.research.google.com/github/mohsen9april/RapidAPI/blob/main/RapidAPI.ipynb\" target=\"_parent\"><img src=\"https://colab.research.google.com/assets/colab-badge.svg\" alt=\"Open In Colab\"/></a>"
      ]
    },
    {
      "cell_type": "code",
      "execution_count": 2,
      "metadata": {
        "colab": {
          "base_uri": "https://localhost:8080/"
        },
        "id": "NH95MZ1n99sy",
        "outputId": "6351bf90-d8f3-401e-b474-61cba9f3e9be"
      },
      "outputs": [
        {
          "output_type": "stream",
          "name": "stdout",
          "text": [
            "{'status': 'success', 'response': 'Hello! How can I assist you today?'}\n"
          ]
        }
      ],
      "source": [
        "import requests\n",
        "\n",
        "# تعریف API Key (این مقدار را با کلید خود جایگزین کنید)\n",
        "api_key = \"32e572bd67msh86715354bbb6b0fp118313jsnde81fc633d49\"\n",
        "\n",
        "# تعریف URL API\n",
        "url = \"https://free-chatgpt-api.p.rapidapi.com/chat-completion-one\"\n",
        "\n",
        "# پرامپت مورد نظر\n",
        "prompt = \"hello\"\n",
        "\n",
        "# تنظیمات هدرها\n",
        "headers = {\n",
        "    \"x-rapidapi-host\": \"free-chatgpt-api.p.rapidapi.com\",\n",
        "    \"x-rapidapi-key\": api_key\n",
        "}\n",
        "\n",
        "# ارسال درخواست GET\n",
        "try:\n",
        "    response = requests.get(url, headers=headers, params={\"prompt\": prompt})\n",
        "    response.raise_for_status()  # بررسی وضعیت پاسخ HTTP\n",
        "\n",
        "    # پردازش پاسخ\n",
        "    data = response.json()\n",
        "    print(data)  # چاپ نتیجه\n",
        "\n",
        "except requests.RequestException as e:\n",
        "    print(f\"Request Error: {e}\")\n"
      ]
    }
  ]
}